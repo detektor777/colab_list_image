{
  "nbformat": 4,
  "nbformat_minor": 0,
  "metadata": {
    "colab": {
      "provenance": [],
      "authorship_tag": "ABX9TyNOoOBcy+iCsS8vSpUwqtPa",
      "include_colab_link": true
    },
    "kernelspec": {
      "name": "python3",
      "display_name": "Python 3"
    },
    "language_info": {
      "name": "python"
    }
  },
  "cells": [
    {
      "cell_type": "markdown",
      "metadata": {
        "id": "view-in-github",
        "colab_type": "text"
      },
      "source": [
        "<a href=\"https://colab.research.google.com/github/detektor777/colab_list_image/blob/main/sharpness.ipynb\" target=\"_parent\"><img src=\"https://colab.research.google.com/assets/colab-badge.svg\" alt=\"Open In Colab\"/></a>"
      ]
    },
    {
      "cell_type": "code",
      "execution_count": 1,
      "metadata": {
        "id": "1TiZ1V3gdo2H"
      },
      "outputs": [],
      "source": [
        "#@title ##**Install** { display-mode: \"form\" }\n",
        "%%capture\n",
        "%cd /content\n",
        "!pip install Pillow\n",
        "from google.colab import files\n",
        "import os\n",
        "import os\n",
        "import shutil\n",
        "from google.colab import files\n",
        "from PIL import Image\n",
        "import numpy as np\n"
      ]
    },
    {
      "cell_type": "code",
      "source": [
        "#@title ##**Upload images** { display-mode: \"form\" }\n",
        "\n",
        "upload_folder = \"/content/upload\"\n",
        "result_folder = \"/content/results\"\n",
        "\n",
        "if os.path.isdir(upload_folder):\n",
        "    shutil.rmtree(upload_folder)\n",
        "os.makedirs(upload_folder)\n",
        "\n",
        "if os.path.isdir(result_folder):\n",
        "    shutil.rmtree(result_folder)\n",
        "os.makedirs(result_folder)\n",
        "\n",
        "basepath = os.getcwd()\n",
        "uploaded = files.upload()\n",
        "for filename in uploaded.keys():\n",
        "    shutil.move(os.path.join(basepath, filename), os.path.join(upload_folder, filename))"
      ],
      "metadata": {
        "id": "bbSHMXdWd3kf"
      },
      "execution_count": null,
      "outputs": []
    },
    {
      "cell_type": "code",
      "source": [
        "#@title ##**Run** { display-mode: \"form\" }\n",
        "\n",
        "if os.path.isdir(result_folder):\n",
        "    shutil.rmtree(result_folder)\n",
        "os.makedirs(result_folder)\n",
        "\n",
        "upload_folder = \"/content/upload\"\n",
        "result_folder = \"/content/results\"\n",
        "\n",
        "upload_files = set()\n",
        "sharpness_factor = 3  # @param {type:\"slider\", min:0.0, max:7.0, step:0.1}\n",
        "upscale_option = \"height 720px\"  # @param [\"No\", \"height 720px\", \"height 1080px\", \"height 2160px\", \"2x\", \"4x\"]\n",
        "\n",
        "from PIL import ImageEnhance\n",
        "\n",
        "filenames = os.listdir(upload_folder)\n",
        "filenames.sort()\n",
        "\n",
        "for filename in filenames:\n",
        "    input_path = os.path.join(upload_folder, filename)\n",
        "    output_path = os.path.join(result_folder, filename)\n",
        "\n",
        "    original_image = Image.open(input_path)\n",
        "\n",
        "    # Увеличиваем резкость с заданным коэффициентом\n",
        "    enhancer = ImageEnhance.Sharpness(original_image)\n",
        "    processed_image = enhancer.enhance(sharpness_factor)\n",
        "\n",
        "    # Выполняем апскейл изображения, если выбран вариант отличный от \"Нет\"\n",
        "    if upscale_option != \"Нет\":\n",
        "        width, height = processed_image.size\n",
        "\n",
        "        if upscale_option == \"До высоты 720px\":\n",
        "            new_height = 720\n",
        "            new_width = int(width * (new_height / height))\n",
        "        elif upscale_option == \"До высоты 1080px\":\n",
        "            new_height = 1080\n",
        "            new_width = int(width * (new_height / height))\n",
        "        elif upscale_option == \"До высоты 2160px\":\n",
        "            new_height = 2160\n",
        "            new_width = int(width * (new_height / height))\n",
        "        elif upscale_option == \"2x\":\n",
        "            new_width = width * 2\n",
        "            new_height = height * 2\n",
        "        elif upscale_option == \"4x\":\n",
        "            new_width = width * 4\n",
        "            new_height = height * 4\n",
        "\n",
        "        # Выполняем изменение размера с наилучшим методом ресемплинга\n",
        "        processed_image = processed_image.resize((new_width, new_height), Image.LANCZOS)\n",
        "\n",
        "    # Сохраняем обработанное изображение\n",
        "    processed_image.save(output_path)"
      ],
      "metadata": {
        "id": "cOFMw-EieC3e"
      },
      "execution_count": 10,
      "outputs": []
    },
    {
      "cell_type": "code",
      "source": [
        "#@title ##**Visualize** { display-mode: \"form\" }\n",
        "\n",
        "from IPython.display import display as ipy_display\n",
        "import numpy as np\n",
        "import PIL.Image\n",
        "\n",
        "filenames_upload = os.listdir(upload_folder)\n",
        "filenames_upload.sort()\n",
        "\n",
        "filenames_output = os.listdir(result_folder)\n",
        "filenames_output.sort()\n",
        "\n",
        "for filename_input, filename_output in zip(filenames_upload, filenames_output):\n",
        "    image_original = PIL.Image.open(os.path.join(upload_folder, filename_input))\n",
        "    image_processed = PIL.Image.open(os.path.join(result_folder, filename_output))\n",
        "\n",
        "    max_width = 500\n",
        "    width_original, height_original = image_original.size\n",
        "    width_processed, height_processed = image_processed.size\n",
        "    if width_original > max_width:\n",
        "        new_height = int(height_original * max_width / width_original)\n",
        "        image_original = image_original.resize((max_width, new_height))\n",
        "    if width_processed > max_width:\n",
        "        new_height = int(height_processed * max_width / width_processed)\n",
        "        image_processed = image_processed.resize((max_width, new_height))\n",
        "\n",
        "    combined_image = PIL.Image.fromarray(np.hstack((np.array(image_original), np.array(image_processed))))\n",
        "    ipy_display(combined_image)\n",
        "    print(\"\")"
      ],
      "metadata": {
        "id": "NjTjOtEQeep9"
      },
      "execution_count": null,
      "outputs": []
    },
    {
      "cell_type": "code",
      "source": [
        "#@title ##**Download results** { display-mode: \"form\" }\n",
        "\n",
        "files_in_folder = os.listdir(result_folder)\n",
        "zip_file = \"download.zip\"\n",
        "\n",
        "if len(files_in_folder) == 1:\n",
        "    file_to_download = os.path.join(result_folder, files_in_folder[0])\n",
        "    files.download(file_to_download)\n",
        "else:\n",
        "    if os.path.exists(os.path.join(result_folder, zip_file)):\n",
        "        os.remove(os.path.join(result_folder, zip_file))\n",
        "    os.system(f\"cd {result_folder} && zip -r -j {zip_file} * && cd ..\")\n",
        "    files.download(os.path.join(result_folder, zip_file))"
      ],
      "metadata": {
        "id": "xfhpqd62ehMo"
      },
      "execution_count": null,
      "outputs": []
    }
  ]
}
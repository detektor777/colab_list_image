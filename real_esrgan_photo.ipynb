{
  "nbformat": 4,
  "nbformat_minor": 0,
  "metadata": {
    "accelerator": "GPU",
    "colab": {
      "provenance": [],
      "include_colab_link": true
    },
    "kernelspec": {
      "display_name": "Python 3",
      "name": "python3"
    },
    "gpuClass": "standard"
  },
  "cells": [
    {
      "cell_type": "markdown",
      "metadata": {
        "id": "view-in-github",
        "colab_type": "text"
      },
      "source": [
        "<a href=\"https://colab.research.google.com/github/detektor777/colab_list_image/blob/main/real_esrgan_photo.ipynb\" target=\"_parent\"><img src=\"https://colab.research.google.com/assets/colab-badge.svg\" alt=\"Open In Colab\"/></a>"
      ]
    },
    {
      "cell_type": "code",
      "source": [
        "#@title ##**Install** { display-mode: \"form\" }\n",
        "!nvidia-smi\n",
        "!git clone https://github.com/xinntao/Real-ESRGAN.git\n",
        "%cd Real-ESRGAN\n",
        "# Set up the environment\n",
        "!pip install basicsr\n",
        "!pip install facexlib\n",
        "!pip install gfpgan\n",
        "!pip install -r requirements.txt\n",
        "!python setup.py develop\n",
        "\n",
        "import shutil\n",
        "from tqdm import tqdm\n",
        "import os\n",
        "import shutil, sys\n",
        "import re\n",
        "import io\n",
        "import IPython.display\n",
        "import numpy as np\n",
        "import PIL.Image\n",
        "from google.colab import files\n",
        "import shutil\n",
        "\n",
        "# URL новой модели\n",
        "new_model_path = 'https://github.com/TencentARC/GFPGAN/releases/download/v1.3.0/GFPGANv1.4.pth'\n",
        "\n",
        "# Открываем файл локально и читаем его содержимое\n",
        "filename = '/content/Real-ESRGAN/inference_realesrgan.py'\n",
        "with open(filename, 'r') as f:\n",
        "    script_content = f.read()\n",
        "\n",
        "# Изменяем путь к модели в строке скрипта\n",
        "new_script_content = re.sub(r\"(model_path\\s*=\\s*[\\\"\\']).*?([\\\"\\'])\", rf\"\\g<1>{new_model_path}\\g<2>\", script_content)\n",
        "\n",
        "# Записываем измененный скрипт в файл\n",
        "with open(filename, 'w') as f:\n",
        "    f.write(new_script_content)\n",
        "\n",
        "!sed -i 's/from torchvision.transforms.functional_tensor import rgb_to_grayscale/from torchvision.transforms.functional import rgb_to_grayscale/' /usr/local/lib/python3.10/dist-packages/basicsr/data/degradations.py\n"
      ],
      "metadata": {
        "id": "RKUUTXjnk-YA"
      },
      "execution_count": null,
      "outputs": []
    },
    {
      "cell_type": "code",
      "metadata": {
        "id": "8Vov9hg957-D"
      },
      "source": [
        "from PIL import Image\n",
        "import os\n",
        "import shutil\n",
        "from google.colab import files\n",
        "\n",
        "# @title ## **Upload images** { display-mode: \"form\" }\n",
        "%cd /content/Real-ESRGAN\n",
        "upload_folder = \"/content/Real-ESRGAN/upload\"\n",
        "result_folder = \"/content/Real-ESRGAN/results\"\n",
        "\n",
        "if os.path.isdir(upload_folder):\n",
        "    shutil.rmtree(upload_folder)\n",
        "os.makedirs(upload_folder)\n",
        "\n",
        "basepath = os.getcwd()\n",
        "uploaded = files.upload()\n",
        "\n",
        "for filename in uploaded.keys():\n",
        "    file_path = os.path.join(basepath, filename)\n",
        "    target_path = os.path.join(upload_folder, filename)\n",
        "\n",
        "    if not filename.lower().endswith((\".jpg\", \".jpeg\", \".png\")):\n",
        "        img = Image.open(file_path)\n",
        "        target_path = os.path.join(upload_folder, f\"{os.path.splitext(filename)[0]}.png\")\n",
        "        img.save(target_path, \"PNG\")\n",
        "        os.remove(file_path)\n",
        "    else:\n",
        "        shutil.move(file_path, target_path)"
      ],
      "execution_count": null,
      "outputs": []
    },
    {
      "cell_type": "code",
      "metadata": {
        "id": "EgRUwTqsjr7m"
      },
      "source": [
        "#@title ##**Run** { display-mode: \"form\" }\n",
        "\n",
        "if os.path.isdir(result_folder):\n",
        "    shutil.rmtree(result_folder)\n",
        "os.makedirs(result_folder)\n",
        "\n",
        "model_name = \"RealESRGAN_x2plus\" #@param [\"RealESRGAN_x2plus\",\"RealESRGAN_x4plus\",\"RealESRNet_x4plus\",\"realesr-general-x4v3\",\"RealESRGAN_x4plus_anime_6B\",\"realesr-animevideov3\"]\n",
        "scale = \"2\" #@param [\"1\",\"2\",\"3\",\"4\"]\n",
        "face_enhance = \"Yes\" #@param [\"Yes\",\"No\"]\n",
        "\n",
        "command = \"python inference_realesrgan.py -n {} -i upload --outscale {}\".format(model_name, scale)\n",
        "if face_enhance == \"Yes\":\n",
        "    command += \" --face_enhance\"\n",
        "\n",
        "print(command)\n",
        "os.system(command)\n",
        "#!python inference_realesrgan.py -n RealESRGAN_x2plus -i upload --outscale 2"
      ],
      "execution_count": null,
      "outputs": []
    },
    {
      "cell_type": "code",
      "metadata": {
        "id": "KvqDOPXnLmkl"
      },
      "source": [
        "#@title ##**Visualize** { display-mode: \"form\" }\n",
        "filenames_upload = os.listdir(upload_folder)\n",
        "filenames_upload.sort()\n",
        "\n",
        "filenames_upload_output = os.listdir(result_folder)\n",
        "filenames_upload_output.sort()\n",
        "\n",
        "for filename, filename_output in zip(filenames_upload, filenames_upload_output):\n",
        "    image_original = PIL.Image.open(os.path.join(upload_folder, filename))\n",
        "    image_restore = PIL.Image.open(os.path.join(result_folder, filename_output))\n",
        "\n",
        "    # Resize images to have a maximum width of 600 pixels\n",
        "    max_width = 500\n",
        "    width_original, height_original = image_original.size\n",
        "    width_restore, height_restore = image_restore.size\n",
        "    if width_original > max_width:\n",
        "        new_height = int(height_original * max_width / width_original)\n",
        "        image_original = image_original.resize((max_width, new_height))\n",
        "    if width_restore > max_width:\n",
        "        new_height = int(height_restore * max_width / width_restore)\n",
        "        image_restore = image_restore.resize((max_width, new_height))\n",
        "\n",
        "    # Combine and display images\n",
        "    display(PIL.Image.fromarray(np.hstack((np.array(image_original), np.array(image_restore)))))\n",
        "    print(\"\")"
      ],
      "execution_count": null,
      "outputs": []
    },
    {
      "cell_type": "code",
      "metadata": {
        "id": "0pJxB6p1R1jE",
        "colab": {
          "base_uri": "https://localhost:8080/",
          "height": 17
        },
        "outputId": "4e6f8f81-2095-4952-abe2-888962890e35"
      },
      "source": [
        "#@title ##**Download results** { display-mode: \"form\" }\n",
        "#output_folder = os.path.join(upload_output_path, \"final_output\")\n",
        "files_in_folder = os.listdir(result_folder)\n",
        "zip_file = \"download.zip\"\n",
        "\n",
        "if len(files_in_folder) == 1:\n",
        "    file_to_download = os.path.join(result_folder, files_in_folder[0])\n",
        "    files.download(file_to_download)\n",
        "else:\n",
        "    if os.path.exists(os.path.join(result_folder, zip_file)):\n",
        "      os.remove(os.path.join(result_folder, zip_file))\n",
        "    os.system(f\"cd {result_folder} && zip -r -j {zip_file} * && cd ..\")\n",
        "    files.download(os.path.join(result_folder, zip_file))"
      ],
      "execution_count": null,
      "outputs": [
        {
          "output_type": "display_data",
          "data": {
            "text/plain": [
              "<IPython.core.display.Javascript object>"
            ],
            "application/javascript": [
              "\n",
              "    async function download(id, filename, size) {\n",
              "      if (!google.colab.kernel.accessAllowed) {\n",
              "        return;\n",
              "      }\n",
              "      const div = document.createElement('div');\n",
              "      const label = document.createElement('label');\n",
              "      label.textContent = `Downloading \"${filename}\": `;\n",
              "      div.appendChild(label);\n",
              "      const progress = document.createElement('progress');\n",
              "      progress.max = size;\n",
              "      div.appendChild(progress);\n",
              "      document.body.appendChild(div);\n",
              "\n",
              "      const buffers = [];\n",
              "      let downloaded = 0;\n",
              "\n",
              "      const channel = await google.colab.kernel.comms.open(id);\n",
              "      // Send a message to notify the kernel that we're ready.\n",
              "      channel.send({})\n",
              "\n",
              "      for await (const message of channel.messages) {\n",
              "        // Send a message to notify the kernel that we're ready.\n",
              "        channel.send({})\n",
              "        if (message.buffers) {\n",
              "          for (const buffer of message.buffers) {\n",
              "            buffers.push(buffer);\n",
              "            downloaded += buffer.byteLength;\n",
              "            progress.value = downloaded;\n",
              "          }\n",
              "        }\n",
              "      }\n",
              "      const blob = new Blob(buffers, {type: 'application/binary'});\n",
              "      const a = document.createElement('a');\n",
              "      a.href = window.URL.createObjectURL(blob);\n",
              "      a.download = filename;\n",
              "      div.appendChild(a);\n",
              "      a.click();\n",
              "      div.remove();\n",
              "    }\n",
              "  "
            ]
          },
          "metadata": {}
        },
        {
          "output_type": "display_data",
          "data": {
            "text/plain": [
              "<IPython.core.display.Javascript object>"
            ],
            "application/javascript": [
              "download(\"download_8e8c7931-8307-4530-b6cf-251f1706a7bc\", \"download.zip\", 1598588)"
            ]
          },
          "metadata": {}
        }
      ]
    },
    {
      "cell_type": "code",
      "source": [
        "#@title ##**Download results to google drive (optional)** { display-mode: \"form\" }\n",
        "from google.colab import drive\n",
        "drive.mount('/content/drive')\n",
        "\n",
        "!cp \"/content/Real-ESRGAN/results/download.zip\" \"/content/drive/MyDrive/\"\n"
      ],
      "metadata": {
        "id": "ZXGAepM55eRX"
      },
      "execution_count": null,
      "outputs": []
    }
  ]
}
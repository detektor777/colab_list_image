{
  "nbformat": 4,
  "nbformat_minor": 0,
  "metadata": {
    "colab": {
      "provenance": [],
      "include_colab_link": true
    },
    "kernelspec": {
      "name": "python3",
      "display_name": "Python 3"
    },
    "language_info": {
      "name": "python"
    },
    "widgets": {
      "application/vnd.jupyter.widget-state+json": {
        "cc087ca1dd6647b490cd53de624e1bea": {
          "model_module": "@jupyter-widgets/controls",
          "model_name": "DropdownModel",
          "model_module_version": "1.5.0",
          "state": {
            "_dom_classes": [],
            "_model_module": "@jupyter-widgets/controls",
            "_model_module_version": "1.5.0",
            "_model_name": "DropdownModel",
            "_options_labels": [
              "No effect",
              "Crossfade",
              "Fade in/out",
              "Slide left",
              "Slide right",
              "Slide up",
              "Slide down"
            ],
            "_view_count": null,
            "_view_module": "@jupyter-widgets/controls",
            "_view_module_version": "1.5.0",
            "_view_name": "DropdownView",
            "description": "Transition effect:",
            "description_tooltip": null,
            "disabled": false,
            "index": 0,
            "layout": "IPY_MODEL_a0fe434413924aa38c192fea6ad04a61",
            "style": "IPY_MODEL_2856f89dcb254b889ac6b9e0104b32cf"
          }
        },
        "a0fe434413924aa38c192fea6ad04a61": {
          "model_module": "@jupyter-widgets/base",
          "model_name": "LayoutModel",
          "model_module_version": "1.2.0",
          "state": {
            "_model_module": "@jupyter-widgets/base",
            "_model_module_version": "1.2.0",
            "_model_name": "LayoutModel",
            "_view_count": null,
            "_view_module": "@jupyter-widgets/base",
            "_view_module_version": "1.2.0",
            "_view_name": "LayoutView",
            "align_content": null,
            "align_items": null,
            "align_self": null,
            "border": null,
            "bottom": null,
            "display": null,
            "flex": null,
            "flex_flow": null,
            "grid_area": null,
            "grid_auto_columns": null,
            "grid_auto_flow": null,
            "grid_auto_rows": null,
            "grid_column": null,
            "grid_gap": null,
            "grid_row": null,
            "grid_template_areas": null,
            "grid_template_columns": null,
            "grid_template_rows": null,
            "height": null,
            "justify_content": null,
            "justify_items": null,
            "left": null,
            "margin": null,
            "max_height": null,
            "max_width": null,
            "min_height": null,
            "min_width": null,
            "object_fit": null,
            "object_position": null,
            "order": null,
            "overflow": null,
            "overflow_x": null,
            "overflow_y": null,
            "padding": null,
            "right": null,
            "top": null,
            "visibility": null,
            "width": null
          }
        },
        "2856f89dcb254b889ac6b9e0104b32cf": {
          "model_module": "@jupyter-widgets/controls",
          "model_name": "DescriptionStyleModel",
          "model_module_version": "1.5.0",
          "state": {
            "_model_module": "@jupyter-widgets/controls",
            "_model_module_version": "1.5.0",
            "_model_name": "DescriptionStyleModel",
            "_view_count": null,
            "_view_module": "@jupyter-widgets/base",
            "_view_module_version": "1.2.0",
            "_view_name": "StyleView",
            "description_width": ""
          }
        },
        "d750212d6f954799a0593b20136b5d6e": {
          "model_module": "@jupyter-widgets/controls",
          "model_name": "FloatSliderModel",
          "model_module_version": "1.5.0",
          "state": {
            "_dom_classes": [],
            "_model_module": "@jupyter-widgets/controls",
            "_model_module_version": "1.5.0",
            "_model_name": "FloatSliderModel",
            "_view_count": null,
            "_view_module": "@jupyter-widgets/controls",
            "_view_module_version": "1.5.0",
            "_view_name": "FloatSliderView",
            "continuous_update": false,
            "description": "Transition duration (sec):",
            "description_tooltip": null,
            "disabled": false,
            "layout": "IPY_MODEL_9e2efe9545784e12b35ffd09b1ac48ed",
            "max": 5,
            "min": 0,
            "orientation": "horizontal",
            "readout": true,
            "readout_format": ".2f",
            "step": 0.1,
            "style": "IPY_MODEL_3fcaffced5414016a928abc50182b1cd",
            "value": 0.1
          }
        },
        "9e2efe9545784e12b35ffd09b1ac48ed": {
          "model_module": "@jupyter-widgets/base",
          "model_name": "LayoutModel",
          "model_module_version": "1.2.0",
          "state": {
            "_model_module": "@jupyter-widgets/base",
            "_model_module_version": "1.2.0",
            "_model_name": "LayoutModel",
            "_view_count": null,
            "_view_module": "@jupyter-widgets/base",
            "_view_module_version": "1.2.0",
            "_view_name": "LayoutView",
            "align_content": null,
            "align_items": null,
            "align_self": null,
            "border": null,
            "bottom": null,
            "display": null,
            "flex": null,
            "flex_flow": null,
            "grid_area": null,
            "grid_auto_columns": null,
            "grid_auto_flow": null,
            "grid_auto_rows": null,
            "grid_column": null,
            "grid_gap": null,
            "grid_row": null,
            "grid_template_areas": null,
            "grid_template_columns": null,
            "grid_template_rows": null,
            "height": null,
            "justify_content": null,
            "justify_items": null,
            "left": null,
            "margin": null,
            "max_height": null,
            "max_width": null,
            "min_height": null,
            "min_width": null,
            "object_fit": null,
            "object_position": null,
            "order": null,
            "overflow": null,
            "overflow_x": null,
            "overflow_y": null,
            "padding": null,
            "right": null,
            "top": null,
            "visibility": null,
            "width": null
          }
        },
        "3fcaffced5414016a928abc50182b1cd": {
          "model_module": "@jupyter-widgets/controls",
          "model_name": "SliderStyleModel",
          "model_module_version": "1.5.0",
          "state": {
            "_model_module": "@jupyter-widgets/controls",
            "_model_module_version": "1.5.0",
            "_model_name": "SliderStyleModel",
            "_view_count": null,
            "_view_module": "@jupyter-widgets/base",
            "_view_module_version": "1.2.0",
            "_view_name": "StyleView",
            "description_width": "",
            "handle_color": null
          }
        }
      }
    }
  },
  "cells": [
    {
      "cell_type": "markdown",
      "metadata": {
        "id": "view-in-github",
        "colab_type": "text"
      },
      "source": [
        "<a href=\"https://colab.research.google.com/github/detektor777/colab_list_image/blob/main/slideshow.ipynb\" target=\"_parent\"><img src=\"https://colab.research.google.com/assets/colab-badge.svg\" alt=\"Open In Colab\"/></a>"
      ]
    },
    {
      "cell_type": "code",
      "execution_count": null,
      "metadata": {
        "id": "bk9xzN1b1rhl"
      },
      "outputs": [],
      "source": [
        "#@title ##**Install** { display-mode: \"form\" }\n",
        "\n",
        "!pip install moviepy ipywidgets\n",
        "!apt-get install -y fonts-dejavu-core"
      ]
    },
    {
      "cell_type": "code",
      "source": [
        "#@title ##**Upload images** { display-mode: \"form\" }\n",
        "from google.colab import files, drive\n",
        "import os\n",
        "import zipfile\n",
        "\n",
        "upload_source = \"Google Drive archive\" #@param [\"PC\", \"Google Drive\", \"Google Drive archive\"] {type:\"string\"}\n",
        "\n",
        "if upload_source == \"PC\":\n",
        "    print(\"Please select images to upload from your PC\")\n",
        "    uploaded_images = files.upload()\n",
        "    image_filenames = list(uploaded_images.keys())\n",
        "\n",
        "elif upload_source == \"Google Drive\":\n",
        "    drive.mount('/content/drive')\n",
        "    folder_name = input(\"Please enter the name of the folder on Google Drive: \")\n",
        "\n",
        "    folder_path = f'/content/drive/My Drive/{folder_name}'\n",
        "    if not os.path.exists(folder_path):\n",
        "        print(f\"Folder '{folder_name}' not found on Google Drive.\")\n",
        "    else:\n",
        "        image_filenames = [f for f in os.listdir(folder_path) if f.lower().endswith(('.png', '.jpg', '.jpeg', '.gif'))]\n",
        "        if image_filenames:\n",
        "            print(\"Images found in the folder:\")\n",
        "            for filename in image_filenames:\n",
        "                print(filename)\n",
        "        else:\n",
        "            print(\"No images found in the specified folder.\")\n",
        "\n",
        "elif upload_source == \"Google Drive archive\":\n",
        "    drive.mount('/content/drive')\n",
        "    archive_name = input(\"Please enter the name of the archive on Google Drive (including extension, e.g. 'images.zip'): \")\n",
        "\n",
        "    archive_path = f'/content/drive/My Drive/{archive_name}'\n",
        "    if not os.path.exists(archive_path):\n",
        "        print(f\"Archive '{archive_name}' not found on Google Drive.\")\n",
        "    else:\n",
        "        print(f\"Found archive: {archive_name}\")\n",
        "        try:\n",
        "            with zipfile.ZipFile(archive_path, 'r') as zip_ref:\n",
        "                image_filenames = []\n",
        "                for file_info in zip_ref.filelist:\n",
        "                    if file_info.filename.lower().endswith(('.png', '.jpg', '.jpeg', '.gif')):\n",
        "                        filename = os.path.basename(file_info.filename)\n",
        "                        if filename:  # Skip if filename is empty (directory)\n",
        "                            zip_ref.extract(file_info, \".\")  # Распаковываем в текущую директорию\n",
        "                            image_filenames.append(filename)\n",
        "                            print(f\"Extracted: {filename}\")\n",
        "\n",
        "                if image_filenames:\n",
        "                    print(\"\\nSuccessfully extracted images\")\n",
        "                else:\n",
        "                    print(\"No images found in the archive.\")\n",
        "        except Exception as e:\n",
        "            print(f\"Error processing archive: {e}\")\n",
        "            image_filenames = []\n",
        "\n",
        "# Now `image_filenames` will contain the list of image files from the chosen source"
      ],
      "metadata": {
        "id": "vPo_LkHC2WLO"
      },
      "execution_count": null,
      "outputs": []
    },
    {
      "cell_type": "code",
      "source": [
        "#@title ##**Upload audio** { display-mode: \"form\" }\n",
        "from google.colab import files\n",
        "print(\"Please select an audio file to upload\")\n",
        "uploaded_audio = files.upload()\n",
        "\n",
        "audio_filename = list(uploaded_audio.keys())[0]"
      ],
      "metadata": {
        "id": "30rwsVoO2aG3"
      },
      "execution_count": null,
      "outputs": []
    },
    {
      "cell_type": "code",
      "source": [
        "#@title ##**Configuration** { display-mode: \"form\" }\n",
        "#selected_effect = \"crossfade\"  #@param [\"crossfade\", \"fade\", \"slide_left\", \"slide_right\", \"none\"] {type:\"string\"}\n",
        "#transition_duration = 1.0  #@param {type:\"number\"}\n",
        "with_text_option = \"With text\"  #@param [\"With text\", \"Without text\"] {type:\"string\"}\n",
        "font_size = 38  #@param {type:\"slider\", min:10, max:100, step:1}\n",
        "text_color = \"#FFFFFF\"  #@param {type:\"string\"}\n",
        "import ipywidgets as widgets\n",
        "from IPython.display import display\n",
        "\n",
        "transition_effect = widgets.Dropdown(\n",
        "    options=[\n",
        "        ('No effect', 'none'),\n",
        "        ('Crossfade', 'crossfade'),\n",
        "        ('Fade in/out', 'fade'),\n",
        "        ('Slide left', 'slide_left'),\n",
        "        ('Slide right', 'slide_right'),\n",
        "        ('Slide up', 'slide_up'),\n",
        "        ('Slide down', 'slide_down')\n",
        "    ],\n",
        "    value='none',\n",
        "    description='Transition effect:',\n",
        ")\n",
        "\n",
        "transition_duration = widgets.FloatSlider(\n",
        "    value=1.0,\n",
        "    min=0.0,\n",
        "    max=5.0,\n",
        "    step=0.1,\n",
        "    description='Transition duration (sec):',\n",
        "    continuous_update=False\n",
        ")\n",
        "\n",
        "display(transition_effect, transition_duration)"
      ],
      "metadata": {
        "id": "-hlus5A92cPo",
        "colab": {
          "base_uri": "https://localhost:8080/",
          "height": 79,
          "referenced_widgets": [
            "cc087ca1dd6647b490cd53de624e1bea",
            "a0fe434413924aa38c192fea6ad04a61",
            "2856f89dcb254b889ac6b9e0104b32cf",
            "d750212d6f954799a0593b20136b5d6e",
            "9e2efe9545784e12b35ffd09b1ac48ed",
            "3fcaffced5414016a928abc50182b1cd"
          ]
        },
        "outputId": "2e35b720-9252-4a09-ae06-7daa696747f7"
      },
      "execution_count": 9,
      "outputs": [
        {
          "output_type": "display_data",
          "data": {
            "text/plain": [
              "Dropdown(description='Transition effect:', options=(('No effect', 'none'), ('Crossfade', 'crossfade'), ('Fade …"
            ],
            "application/vnd.jupyter.widget-view+json": {
              "version_major": 2,
              "version_minor": 0,
              "model_id": "cc087ca1dd6647b490cd53de624e1bea"
            }
          },
          "metadata": {}
        },
        {
          "output_type": "display_data",
          "data": {
            "text/plain": [
              "FloatSlider(value=1.0, continuous_update=False, description='Transition duration (sec):', max=5.0)"
            ],
            "application/vnd.jupyter.widget-view+json": {
              "version_major": 2,
              "version_minor": 0,
              "model_id": "d750212d6f954799a0593b20136b5d6e"
            }
          },
          "metadata": {}
        }
      ]
    },
    {
      "cell_type": "code",
      "source": [
        "#@title ##**Run** { display-mode: \"form\" }\n",
        "from moviepy.editor import *\n",
        "from PIL import Image, ImageDraw, ImageFont\n",
        "\n",
        "def create_image_with_text(image_path, text, font_size, text_color):\n",
        "    image = Image.open(image_path)\n",
        "    draw = ImageDraw.Draw(image)\n",
        "\n",
        "    font_path = \"/usr/share/fonts/truetype/dejavu/DejaVuSans-Bold.ttf\"\n",
        "    font = ImageFont.truetype(font_path, font_size)\n",
        "\n",
        "    text_bbox = draw.textbbox((0, 0), text, font=font)\n",
        "    text_width = text_bbox[2] - text_bbox[0]\n",
        "    text_height = text_bbox[3] - text_bbox[1]\n",
        "\n",
        "    position = ((image.width - text_width) // 2, image.height - text_height - 10)\n",
        "\n",
        "    draw.text(position, text, fill=text_color, font=font)\n",
        "\n",
        "    temp_image_path = \"/tmp/temp_with_text.png\"\n",
        "    image.save(temp_image_path)\n",
        "    return temp_image_path\n",
        "\n",
        "selected_effect = transition_effect.value\n",
        "transition_dur = transition_duration.value\n",
        "add_text = with_text_option\n",
        "\n",
        "audio_clip = AudioFileClip(audio_filename)\n",
        "audio_duration = audio_clip.duration\n",
        "\n",
        "num_images = len(image_filenames)\n",
        "total_transition_time = (num_images - 1) * transition_dur\n",
        "image_duration = (audio_duration - total_transition_time) / num_images\n",
        "\n",
        "if image_duration <= 0:\n",
        "    print(\"The audio duration is too short for the given number of images and transition durations\")\n",
        "else:\n",
        "    clips = []\n",
        "    for i, filename in enumerate(image_filenames):\n",
        "        if add_text == 'With text':\n",
        "            temp_image_path = create_image_with_text(filename, filename, font_size, text_color)\n",
        "            clip = ImageClip(temp_image_path).set_duration(image_duration + transition_dur)\n",
        "        else:\n",
        "            clip = ImageClip(filename).set_duration(image_duration + transition_dur)\n",
        "\n",
        "        if selected_effect == 'crossfade':\n",
        "            start_time = i * image_duration\n",
        "        else:\n",
        "            start_time = i * (image_duration + transition_dur)\n",
        "\n",
        "        clip = clip.set_start(start_time)\n",
        "\n",
        "        if selected_effect == 'crossfade':\n",
        "            if i > 0:\n",
        "                clip = clip.crossfadein(transition_dur)\n",
        "        elif selected_effect == 'fade':\n",
        "            clip = clip.fx(vfx.fadein, duration=transition_dur).fx(vfx.fadeout, duration=transition_dur)\n",
        "        elif selected_effect.startswith('slide_'):\n",
        "            side = selected_effect.split('_')[1]\n",
        "            clip = clip.fx(vfx.slide_in, duration=transition_dur, side=side)\n",
        "\n",
        "        clips.append(clip)\n",
        "\n",
        "    final_clip = CompositeVideoClip(clips)\n",
        "    final_clip = final_clip.set_duration(audio_duration)\n",
        "    final_clip = final_clip.set_audio(audio_clip)\n",
        "\n",
        "    output_filename = \"slideshow_video.mp4\"\n",
        "    final_clip.write_videofile(output_filename, fps=24)"
      ],
      "metadata": {
        "id": "_AAEaxahIefl"
      },
      "execution_count": null,
      "outputs": []
    },
    {
      "cell_type": "code",
      "source": [
        "#@title ##**Download video** { display-mode: \"form\" }\n",
        "from google.colab import files\n",
        "\n",
        "files.download(output_filename)"
      ],
      "metadata": {
        "id": "fqbqkkyr2kJM"
      },
      "execution_count": null,
      "outputs": []
    }
  ]
}
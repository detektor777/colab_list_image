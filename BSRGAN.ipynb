{
  "nbformat": 4,
  "nbformat_minor": 0,
  "metadata": {
    "colab": {
      "provenance": [],
      "authorship_tag": "ABX9TyMXrpL2lXsULn8rPQh8KjZ6",
      "include_colab_link": true
    },
    "kernelspec": {
      "name": "python3",
      "display_name": "Python 3"
    },
    "language_info": {
      "name": "python"
    }
  },
  "cells": [
    {
      "cell_type": "markdown",
      "metadata": {
        "id": "view-in-github",
        "colab_type": "text"
      },
      "source": [
        "<a href=\"https://colab.research.google.com/github/detektor777/colab_list_image/blob/main/BSRGAN.ipynb\" target=\"_parent\"><img src=\"https://colab.research.google.com/assets/colab-badge.svg\" alt=\"Open In Colab\"/></a>"
      ]
    },
    {
      "cell_type": "code",
      "execution_count": null,
      "metadata": {
        "id": "hal6k5gyZ7Ev"
      },
      "outputs": [],
      "source": [
        "#@title ##**Install** { display-mode: \"form\" }\n",
        "%%capture\n",
        "!nvidia-smi\n",
        "!git clone https://github.com/cszn/BSRGAN.git\n",
        "%cd BSRGAN\n",
        "\n",
        "\n",
        "!pip install scikit-image pyyaml tqdm gdown\n",
        "\n",
        "import os\n",
        "if not os.path.exists('model_zoo'):\n",
        "    os.makedirs('model_zoo')\n",
        "\n",
        "\n",
        "!gdown --id 1WNULM1e8gRNvsngVscsQ8tpaOqJ4mYtv -O model_zoo/BSRGAN.pth\n",
        "\n"
      ]
    },
    {
      "cell_type": "code",
      "source": [
        "#@title ##**Upload images** { display-mode: \"form\" }\n",
        "from google.colab import files\n",
        "import os\n",
        "import shutil\n",
        "from tqdm import tqdm\n",
        "import os\n",
        "import shutil, sys\n",
        "\n",
        "upload_folder = '/content/BSRGAN/upload'\n",
        "\n",
        "if os.path.isdir(upload_folder):\n",
        "    shutil.rmtree(upload_folder)\n",
        "os.makedirs(upload_folder)\n",
        "\n",
        "uploaded = files.upload()\n",
        "\n",
        "\n",
        "for filename in uploaded.keys():\n",
        "    with open(os.path.join(upload_folder, filename), 'wb') as f:\n",
        "        f.write(uploaded[filename])\n",
        "\n",
        "print(f\"Images have been uploaded to {upload_folder}\")\n"
      ],
      "metadata": {
        "id": "0AI1wq4kaFgt"
      },
      "execution_count": null,
      "outputs": []
    },
    {
      "cell_type": "code",
      "source": [
        "#@title ##**Run** { display-mode: \"form\" }\n",
        "import os\n",
        "import torch\n",
        "import shutil\n",
        "from utils import utils_image as util\n",
        "from models.network_rrdbnet import RRDBNet as net\n",
        "\n",
        "model_ids = {\n",
        "    \"BSRGAN\": \"1WNULM1e8gRNvsngVscsQ8tpaOqJ4mYtv\",\n",
        "    \"BSRGANx2\": \"1J-6NX3DB6GA0G8AN95vmgWs_2l9l4dJf\",\n",
        "    \"BSRNet\": \"1JGJLiENPkOqi39bvQYa_jlIPlMk24iKH\"\n",
        "}\n",
        "\n",
        "scale = \"4\"  #@param [\"1\",\"2\",\"3\",\"4\"]\n",
        "selected_model = \"BSRGAN\"  #@param [\"BSRGAN\", \"BSRGANx2\", \"BSRNet\"]\n",
        "\n",
        "upload_folder = '/content/BSRGAN/upload'\n",
        "result_folder = '/content/BSRGAN/results'\n",
        "\n",
        "if os.path.isdir(result_folder):\n",
        "    shutil.rmtree(result_folder)\n",
        "os.makedirs(result_folder)\n",
        "\n",
        "if selected_model in model_ids:\n",
        "    model_id = model_ids[selected_model]\n",
        "    model_path = f'model_zoo/{selected_model}.pth'\n",
        "\n",
        "    !gdown --id {model_id} -O {model_path}\n",
        "\n",
        "    device = torch.device('cuda' if torch.cuda.is_available() else 'cpu')\n",
        "    sf = int(scale)\n",
        "    model = net(in_nc=3, out_nc=3, nf=64, nb=23, gc=32, sf=sf)\n",
        "    model.load_state_dict(torch.load(model_path), strict=True)\n",
        "    model.eval()\n",
        "    for k, v in model.named_parameters():\n",
        "        v.requires_grad = False\n",
        "    model = model.to(device)\n",
        "\n",
        "    for filename in os.listdir(upload_folder):\n",
        "        img_path = os.path.join(upload_folder, filename)\n",
        "        img_L = util.imread_uint(img_path, n_channels=3)\n",
        "        img_L = util.uint2tensor4(img_L)\n",
        "        img_L = img_L.to(device)\n",
        "\n",
        "        with torch.no_grad():\n",
        "            img_E = model(img_L)\n",
        "\n",
        "        img_E = util.tensor2uint(img_E)\n",
        "\n",
        "        output_image_name = os.path.splitext(filename)[0] + f'_{selected_model}.png'\n",
        "        util.imsave(img_E, os.path.join(result_folder, output_image_name))\n",
        "\n",
        "    print(f\"Images have been processed and saved to {result_folder}\")\n",
        "else:\n",
        "    print(\"Selected model is not available.\")\n"
      ],
      "metadata": {
        "id": "eO9ewaB6aI9r"
      },
      "execution_count": null,
      "outputs": []
    },
    {
      "cell_type": "code",
      "source": [
        "#@title ##**Visualize** { display-mode: \"form\" }\n",
        "from PIL import Image\n",
        "import numpy as np\n",
        "import os\n",
        "from IPython.display import display\n",
        "\n",
        "filenames_upload = os.listdir(upload_folder)\n",
        "filenames_upload.sort()\n",
        "\n",
        "filenames_upload_output = os.listdir(result_folder)\n",
        "filenames_upload_output.sort()\n",
        "\n",
        "for filename, filename_output in zip(filenames_upload, filenames_upload_output):\n",
        "    image_original = PIL.Image.open(os.path.join(upload_folder, filename))\n",
        "    image_restore = PIL.Image.open(os.path.join(result_folder, filename_output))\n",
        "\n",
        "    # Resize images to have a maximum width of 600 pixels\n",
        "    max_width = 500\n",
        "    width_original, height_original = image_original.size\n",
        "    width_restore, height_restore = image_restore.size\n",
        "    if width_original > max_width:\n",
        "        new_height = int(height_original * max_width / width_original)\n",
        "        image_original = image_original.resize((max_width, new_height))\n",
        "    if width_restore > max_width:\n",
        "        new_height = int(height_restore * max_width / width_restore)\n",
        "        image_restore = image_restore.resize((max_width, new_height))\n",
        "\n",
        "    # Combine and display images\n",
        "    display(PIL.Image.fromarray(np.hstack((np.array(image_original), np.array(image_restore)))))\n",
        "    print(\"\")"
      ],
      "metadata": {
        "id": "42gHosVcaLrC"
      },
      "execution_count": null,
      "outputs": []
    },
    {
      "cell_type": "code",
      "source": [
        "#@title ##**Download results** { display-mode: \"form\" }\n",
        "#output_folder = os.path.join(upload_output_path, \"final_output\")\n",
        "files_in_folder = os.listdir(result_folder)\n",
        "zip_file = \"download.zip\"\n",
        "\n",
        "if len(files_in_folder) == 1:\n",
        "    file_to_download = os.path.join(result_folder, files_in_folder[0])\n",
        "    files.download(file_to_download)\n",
        "else:\n",
        "    if os.path.exists(os.path.join(result_folder, zip_file)):\n",
        "      os.remove(os.path.join(result_folder, zip_file))\n",
        "    os.system(f\"cd {result_folder} && zip -r -j {zip_file} * && cd ..\")\n",
        "    files.download(os.path.join(result_folder, zip_file))"
      ],
      "metadata": {
        "id": "aHn1qKVtaP0H"
      },
      "execution_count": null,
      "outputs": []
    }
  ]
}
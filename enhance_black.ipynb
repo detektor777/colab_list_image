{
  "nbformat": 4,
  "nbformat_minor": 0,
  "metadata": {
    "colab": {
      "provenance": [],
      "authorship_tag": "ABX9TyPA3rcZQoodTcDpO7RVEOhl",
      "include_colab_link": true
    },
    "kernelspec": {
      "name": "python3",
      "display_name": "Python 3"
    },
    "language_info": {
      "name": "python"
    }
  },
  "cells": [
    {
      "cell_type": "markdown",
      "metadata": {
        "id": "view-in-github",
        "colab_type": "text"
      },
      "source": [
        "<a href=\"https://colab.research.google.com/github/detektor777/colab_list_image/blob/main/enhance_black.ipynb\" target=\"_parent\"><img src=\"https://colab.research.google.com/assets/colab-badge.svg\" alt=\"Open In Colab\"/></a>"
      ]
    },
    {
      "cell_type": "code",
      "execution_count": null,
      "metadata": {
        "id": "hSrruCEF5-im"
      },
      "outputs": [],
      "source": [
        "#@title ##**Upload images** { display-mode: \"form\" }\n",
        "\n",
        "import shutil\n",
        "from tqdm import tqdm\n",
        "import os\n",
        "import shutil, sys\n",
        "import re\n",
        "import io\n",
        "import IPython.display\n",
        "import numpy as np\n",
        "import PIL.Image\n",
        "from google.colab import files\n",
        "import shutil\n",
        "\n",
        "upload_folder = \"/content/upload\"\n",
        "result_folder = \"/content/results\"\n",
        "\n",
        "if os.path.isdir(upload_folder):\n",
        "    shutil.rmtree(upload_folder)\n",
        "os.makedirs(upload_folder)\n",
        "\n",
        "if os.path.isdir(result_folder):\n",
        "    shutil.rmtree(result_folder)\n",
        "os.makedirs(result_folder)\n",
        "\n",
        "basepath = os.getcwd()\n",
        "uploaded = files.upload()\n",
        "for filename in uploaded.keys():\n",
        "    shutil.move(os.path.join(basepath, filename), os.path.join(upload_folder, filename))"
      ]
    },
    {
      "cell_type": "code",
      "source": [
        "#@title ##**Enhance Blacks** { display-mode: \"form\" }\n",
        "import cv2\n",
        "import numpy as np\n",
        "import os\n",
        "from tqdm import tqdm\n",
        "\n",
        "upload_folder = \"/content/upload\"\n",
        "result_folder = \"/content/results\"\n",
        "\n",
        "if os.path.isdir(result_folder):\n",
        "    shutil.rmtree(result_folder)\n",
        "os.makedirs(result_folder)\n",
        "\n",
        "def enhance_blacks(image, black_level=0.5, threshold=0.1, transition=0.05, curve_strength=0.5):\n",
        "    \"\"\"\n",
        "    image: входное изображение в формате BGR (OpenCV)\n",
        "    black_level: сила усиления черных (0.0 - 1.0)\n",
        "    threshold: порог, ниже которого усиливаются темные тона (0.0 - 1.0)\n",
        "    transition: ширина зоны плавного перехода (0.0 - 1.0)\n",
        "    curve_strength: сила нелинейности (0.0 - линейно, 1.0 - сильно затемняет темные)\n",
        "    \"\"\"\n",
        "    image_float = image.astype(np.float32) / 255.0\n",
        "    corrected = np.copy(image_float)\n",
        "    mask = image_float < threshold\n",
        "    linear_factor = (1 - black_level)\n",
        "    nonlinear_factor = np.power(image_float[mask] / threshold, black_level * curve_strength)\n",
        "    corrected[mask] = image_float[mask] * (\n",
        "        (1 - curve_strength) * linear_factor + curve_strength * nonlinear_factor\n",
        "    )\n",
        "    transition_start = threshold - transition\n",
        "    transition_end = threshold\n",
        "    transition_mask = (image_float >= transition_start) & (image_float < transition_end)\n",
        "    for channel in range(3):\n",
        "        alpha = (image_float[:, :, channel] - transition_start) / transition\n",
        "        corrected[:, :, channel][transition_mask[:, :, channel]] = (\n",
        "            (1 - alpha) * (\n",
        "                image_float[:, :, channel] * (\n",
        "                    (1 - curve_strength) * linear_factor +\n",
        "                    curve_strength * np.power(image_float[:, :, channel] / threshold, black_level * curve_strength)\n",
        "                )\n",
        "            ) +\n",
        "            alpha * image_float[:, :, channel]\n",
        "        )[transition_mask[:, :, channel]]\n",
        "    corrected = np.clip(corrected, 0, 1) * 255\n",
        "    return corrected.astype(np.uint8)\n",
        "\n",
        "black_level = 0.9 #@param {type:\"slider\", min:0.0, max:1.0, step:0.1}\n",
        "threshold = 0.2 #@param {type:\"slider\", min:0.0, max:1.0, step:0.05}\n",
        "transition = 0.1 #@param {type:\"slider\", min:0.0, max:0.2, step:0.01}\n",
        "curve_strength = 0.9 #@param {type:\"slider\", min:0.0, max:1.0, step:0.1}\n",
        "\n",
        "filenames = os.listdir(upload_folder)\n",
        "for filename in tqdm(filenames, desc=\"Processing images\"):\n",
        "    image_path = os.path.join(upload_folder, filename)\n",
        "    image = cv2.imread(image_path)\n",
        "    if image is None:\n",
        "        print(f\"Не удалось загрузить изображение: {image_path}\")\n",
        "        continue\n",
        "\n",
        "    enhanced_image = enhance_blacks(image, black_level, threshold, transition, curve_strength)\n",
        "\n",
        "    output_path = os.path.join(result_folder, filename)\n",
        "    cv2.imwrite(output_path, enhanced_image)\n",
        "\n",
        "print(f\"Обработка завершена. Результаты сохранены в {result_folder}\")"
      ],
      "metadata": {
        "id": "gwAxnNXN77cW"
      },
      "execution_count": null,
      "outputs": []
    },
    {
      "cell_type": "code",
      "source": [
        "#@title ##**Visualize** { display-mode: \"form\" }\n",
        "import PIL.Image\n",
        "import numpy as np\n",
        "from IPython.display import display\n",
        "import os\n",
        "\n",
        "# Папки с исходными и обработанными изображениями\n",
        "upload_folder = \"/content/upload\"\n",
        "result_folder = \"/content/results\"\n",
        "\n",
        "# Получение и сортировка списка файлов\n",
        "filenames_upload = os.listdir(upload_folder)\n",
        "filenames_upload.sort()\n",
        "filenames_result = os.listdir(result_folder)\n",
        "filenames_result.sort()\n",
        "\n",
        "# Проверка совпадения количества файлов\n",
        "if len(filenames_upload) != len(filenames_result):\n",
        "    print(\"Внимание: количество исходных и обработанных файлов не совпадает!\")\n",
        "\n",
        "# Визуализация\n",
        "for filename, filename_output in zip(filenames_upload, filenames_result):\n",
        "    image_original = PIL.Image.open(os.path.join(upload_folder, filename))\n",
        "    image_enhanced = PIL.Image.open(os.path.join(result_folder, filename_output))\n",
        "\n",
        "    # Устанавливаем максимальную ширину 500 пикселей\n",
        "    max_width = 500\n",
        "    width_original, height_original = image_original.size\n",
        "    width_enhanced, height_enhanced = image_enhanced.size\n",
        "\n",
        "    if width_original > max_width:\n",
        "        new_height = int(height_original * max_width / width_original)\n",
        "        image_original = image_original.resize((max_width, new_height))\n",
        "    if width_enhanced > max_width:\n",
        "        new_height = int(height_enhanced * max_width / width_enhanced)\n",
        "        image_enhanced = image_enhanced.resize((max_width, new_height))\n",
        "\n",
        "    # Объединяем изображения горизонтально\n",
        "    combined_image = PIL.Image.fromarray(np.hstack((np.array(image_original), np.array(image_enhanced))))\n",
        "\n",
        "    # Отображаем результат\n",
        "    display(combined_image)\n",
        "    print(\"\")"
      ],
      "metadata": {
        "id": "0AyPLOsT8BqH"
      },
      "execution_count": null,
      "outputs": []
    },
    {
      "cell_type": "code",
      "source": [
        "#@title ##**Download results** { display-mode: \"form\" }\n",
        "#output_folder = os.path.join(upload_output_path, \"final_output\")\n",
        "files_in_folder = os.listdir(result_folder)\n",
        "zip_file = \"download.zip\"\n",
        "\n",
        "if len(files_in_folder) == 1:\n",
        "    file_to_download = os.path.join(result_folder, files_in_folder[0])\n",
        "    files.download(file_to_download)\n",
        "else:\n",
        "    if os.path.exists(os.path.join(result_folder, zip_file)):\n",
        "      os.remove(os.path.join(result_folder, zip_file))\n",
        "    os.system(f\"cd {result_folder} && zip -r -j {zip_file} * && cd ..\")\n",
        "    files.download(os.path.join(result_folder, zip_file))"
      ],
      "metadata": {
        "colab": {
          "base_uri": "https://localhost:8080/",
          "height": 17
        },
        "id": "xyZBZb0u8ZDP",
        "outputId": "39d5f2d7-c8d9-4389-dcb4-eff07806aa46"
      },
      "execution_count": 12,
      "outputs": [
        {
          "output_type": "display_data",
          "data": {
            "text/plain": [
              "<IPython.core.display.Javascript object>"
            ],
            "application/javascript": [
              "\n",
              "    async function download(id, filename, size) {\n",
              "      if (!google.colab.kernel.accessAllowed) {\n",
              "        return;\n",
              "      }\n",
              "      const div = document.createElement('div');\n",
              "      const label = document.createElement('label');\n",
              "      label.textContent = `Downloading \"${filename}\": `;\n",
              "      div.appendChild(label);\n",
              "      const progress = document.createElement('progress');\n",
              "      progress.max = size;\n",
              "      div.appendChild(progress);\n",
              "      document.body.appendChild(div);\n",
              "\n",
              "      const buffers = [];\n",
              "      let downloaded = 0;\n",
              "\n",
              "      const channel = await google.colab.kernel.comms.open(id);\n",
              "      // Send a message to notify the kernel that we're ready.\n",
              "      channel.send({})\n",
              "\n",
              "      for await (const message of channel.messages) {\n",
              "        // Send a message to notify the kernel that we're ready.\n",
              "        channel.send({})\n",
              "        if (message.buffers) {\n",
              "          for (const buffer of message.buffers) {\n",
              "            buffers.push(buffer);\n",
              "            downloaded += buffer.byteLength;\n",
              "            progress.value = downloaded;\n",
              "          }\n",
              "        }\n",
              "      }\n",
              "      const blob = new Blob(buffers, {type: 'application/binary'});\n",
              "      const a = document.createElement('a');\n",
              "      a.href = window.URL.createObjectURL(blob);\n",
              "      a.download = filename;\n",
              "      div.appendChild(a);\n",
              "      a.click();\n",
              "      div.remove();\n",
              "    }\n",
              "  "
            ]
          },
          "metadata": {}
        },
        {
          "output_type": "display_data",
          "data": {
            "text/plain": [
              "<IPython.core.display.Javascript object>"
            ],
            "application/javascript": [
              "download(\"download_96b541b7-edcb-4f21-8a46-79655e7d4632\", \"download.zip\", 369003)"
            ]
          },
          "metadata": {}
        }
      ]
    },
    {
      "cell_type": "code",
      "source": [
        "#@title ##**Download results to google drive (optional)** { display-mode: \"form\" }\n",
        "from google.colab import drive\n",
        "drive.mount('/content/drive')\n",
        "\n",
        "!cp \"/content/Real-ESRGAN/results/download.zip\" \"/content/drive/MyDrive/\"\n"
      ],
      "metadata": {
        "id": "vyPFy3qI8d9g"
      },
      "execution_count": null,
      "outputs": []
    }
  ]
}